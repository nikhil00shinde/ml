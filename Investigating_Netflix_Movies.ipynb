{
  "nbformat": 4,
  "nbformat_minor": 0,
  "metadata": {
    "colab": {
      "provenance": [],
      "authorship_tag": "ABX9TyMu1TYKk7wrY9UF3SUhZaP8",
      "include_colab_link": true
    },
    "kernelspec": {
      "name": "python3",
      "display_name": "Python 3"
    },
    "language_info": {
      "name": "python"
    }
  },
  "cells": [
    {
      "cell_type": "markdown",
      "metadata": {
        "id": "view-in-github",
        "colab_type": "text"
      },
      "source": [
        "<a href=\"https://colab.research.google.com/github/nikhil00shinde/ml/blob/main/Investigating_Netflix_Movies.ipynb\" target=\"_parent\"><img src=\"https://colab.research.google.com/assets/colab-badge.svg\" alt=\"Open In Colab\"/></a>"
      ]
    },
    {
      "cell_type": "code",
      "execution_count": null,
      "metadata": {
        "id": "ouvVlcPaVina"
      },
      "outputs": [],
      "source": [
        "# Importing pandas and matplotlib\n",
        "import pandas as pd\n",
        "import matplotlib.pyplot as plt\n",
        "\n",
        "# Read in the Netflix CSV as a DataFrame\n",
        "netflix_df = pd.read_csv(\"netflix_data.csv\")"
      ]
    },
    {
      "cell_type": "code",
      "source": [
        "# Filter for movies released in the 1990s\n",
        "year_1990 = netflix_df[\n",
        "    (netflix_df['release_year'] >= 1990) &\n",
        "    (netflix_df['release_year'] <= 1999) &\n",
        "    (netflix_df['type'] == 'Movie')\n",
        "]\n",
        "\n",
        "# Find the most common duration among these movies\n",
        "duration_counts = year_1990['duration'].value_counts()\n",
        "# print(duration_counts)\n",
        "duration = duration_counts.idxmax()\n",
        "print(duration)\n",
        "duration\n",
        "# print(netflix_df.head())\n",
        "# 2nd part: Find short action movies from 1990\n",
        "short_action_movies = netflix_df[\n",
        "    (netflix_df['release_year'] >= 1990) &\n",
        "    (netflix_df['release_year'] <= 1999)  &\n",
        "    (netflix_df['genre'] == 'Action') &\n",
        "    (netflix_df['type'] == 'Movie') &\n",
        "    (netflix_df['duration'] < 90)\n",
        "]\n",
        "\n",
        "# print(short_action_movies.shape[0])\n",
        "short_movie_count = len(short_action_movies)\n",
        "\n",
        "short_movie_count"
      ],
      "metadata": {
        "id": "dLhTFOYxV2pu"
      },
      "execution_count": null,
      "outputs": []
    }
  ]
}