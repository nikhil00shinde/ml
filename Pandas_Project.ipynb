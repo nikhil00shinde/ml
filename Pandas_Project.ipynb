{
  "nbformat": 4,
  "nbformat_minor": 0,
  "metadata": {
    "colab": {
      "provenance": [],
      "authorship_tag": "ABX9TyM1wxo0+9LNVStBnENhtCIt",
      "include_colab_link": true
    },
    "kernelspec": {
      "name": "python3",
      "display_name": "Python 3"
    },
    "language_info": {
      "name": "python"
    }
  },
  "cells": [
    {
      "cell_type": "markdown",
      "metadata": {
        "id": "view-in-github",
        "colab_type": "text"
      },
      "source": [
        "<a href=\"https://colab.research.google.com/github/nikhil00shinde/ml/blob/main/Pandas_Project.ipynb\" target=\"_parent\"><img src=\"https://colab.research.google.com/assets/colab-badge.svg\" alt=\"Open In Colab\"/></a>"
      ]
    },
    {
      "cell_type": "code",
      "execution_count": null,
      "metadata": {
        "id": "4vhgJN9m3b5i"
      },
      "outputs": [],
      "source": [
        "# Re-run this cell\n",
        "import pandas as pd\n",
        "\n",
        "# Read in the data\n",
        "schools = pd.read_csv(\"schools.csv\")\n",
        "\n",
        "# Preview the data\n",
        "schools.head()\n",
        "\n",
        "# Start coding here...\n",
        "# Add as many cells as you like..\n",
        "\n",
        "best_math_schools = schools[schools['average_math'] >= 640][['school_name','average_math']].sort_values('average_math',ascending=False)\n",
        "\n",
        "# print(best_math_schools)\n",
        "\n",
        "schools['total_SAT'] = schools['average_math'] + schools['average_reading'] + schools['average_writing']\n",
        "\n",
        "top_10_schools = schools.sort_values('total_SAT',ascending=False)[['school_name','total_SAT']][0:10]\n",
        "\n",
        "# print(top_10_schools)\n",
        "\n",
        "# Find the borough with the largest standard deviation in total_SAT\n",
        "largest_std_dev = pd.DataFrame([{}])\n",
        "\n",
        "std_list = schools.groupby('borough')['total_SAT'].std()\n",
        "max_borough = std_list.idxmax()\n",
        "max_std = round(std_list.max(),2)\n",
        "\n",
        "largest_std_dev['borough'] = max_borough\n",
        "largest_std_dev['std_SAT'] = round(schools[schools['borough'] == max_borough]['total_SAT'].std(),2)\n",
        "\n",
        "school_list = schools[schools['borough'] == max_borough]['school_name']\n",
        "largest_std_dev['num_schools'] = len(school_list)\n",
        "\n",
        "largest_std_dev['average_SAT'] = round(schools[schools['borough'] == max_borough]['total_SAT'].mean(),2)\n",
        "\n",
        "print(largest_std_dev)"
      ]
    }
  ]
}